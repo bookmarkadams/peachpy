{
 "cells": [
  {
   "cell_type": "markdown",
   "metadata": {},
   "source": [
    "# <center> Volume of the Snub Dodecahedron\n",
    "<center><font size=\"3\">Mark S. Adams</font></center>\n",
    "<center><font size=\"3\">December 7, 2020</font></center>\n",
    "<br>\n",
    "<font size=\"3\"><strong>Abstract</strong></font>\n",
    "<br>\n",
    "   Volume solutions to the Snub Dodecahedron, Thirteenth Archimedean Solid, are made by HSM Coxeter, HC Rajpoot, MS Adams, and numerical means. The two closed-form solutions have different expressions, but are the same number. The alternate solution is shown to yield a possible origin to one third powers of the golden ratio.\n",
    "\n",
    "<strong>Keywords:</strong> Snub dodecahedron · Archimedean solids · Golden ratio\n",
    "<br>\n",
    "<strong>Mathematics Subject Classification (2000):</strong> 51M15, (51M20)\n",
    "\n",
    "<br>\n",
    "<font size=\"3\"><strong>Contents</strong></font>\n",
    "<br>\n",
    "&nbsp;&nbsp;1 Closed-form volume of the Snub Dodecahedron\n",
    "<br>\n",
    "&nbsp;&nbsp;2 Conventional solution\n",
    "<br>\n",
    "&nbsp;&nbsp;3 Harish Chandra Rajpoot\n",
    "<br>\n",
    "&nbsp;&nbsp;4 Numerical\n",
    "<br>\n",
    "&nbsp;&nbsp;5 Alternate solution\n",
    "<br>\n",
    "&nbsp;&nbsp;&nbsp;&nbsp;&nbsp;&nbsp;Origin to one third powers of the golden ratio\n",
    "<br>\n",
    "&nbsp;&nbsp;References\n",
    "<br>\n"
   ]
  },
  {
   "cell_type": "markdown",
   "metadata": {},
   "source": [
    "## 1 Closed-form volume of the Snub Dodecahedron\n",
    "#### The two closed-form solutions have different expressions\n",
    "<br>\n",
    "$$\n",
    "\\text{Conventional solution =}\\; \\frac{12\\color{Fuchsia}{\\eta^2}\\color{Black}{(3}\\color{DarkGoldenrod}{\\varphi}\n",
    "\\color{Black}{+1)-}\\color{Fuchsia}{\\eta}\n",
    "\\color{Black}{(36}\\color{DarkGoldenrod}{\\varphi}\n",
    "\\color{Black}{+7)-(53}\\color{DarkGoldenrod}{\\varphi}\n",
    "\\color{Black}{+6)}}{6\\sqrt{(3-\\color{Fuchsia}{\\eta^2}\\color{black}{)^3}}}\n",
    "$$\n",
    "\n",
    "<br>\n",
    "\n",
    "$$\n",
    "\\text{Alternate solution =}\\;\n",
    "\\frac{10\\color{DarkGoldenrod}{\\varphi}}{3}\\sqrt{ \\color{DarkGoldenrod}{\\varphi^2}\n",
    "\\color{Black}{+3}\\color{Fuchsia}{\\eta}\n",
    "\\color{Black}{(}\\color{DarkGoldenrod}{\\varphi}\n",
    "\\color{Black}{+}\\color{Fuchsia}{\\eta}\n",
    "\\color{Black}{)}}\n",
    "\\,+\\,\\frac{\\color{DarkGoldenrod}{\\varphi^2}}{2}\\sqrt{ 5 + 5\\sqrt{5}\\color{DarkGoldenrod}{\\varphi}\\color{Fuchsia}{\\eta}\n",
    "\\color{Black}{(}\\color{DarkGoldenrod}{\\varphi}\n",
    "\\color{Black}{+}\\color{Fuchsia}{\\eta}\n",
    "\\color{Black}{)}}\n",
    "\\\\\n",
    "$$\n",
    "\n",
    "<br>\n",
    "\n",
    "$$\n",
    "\\text{where } \\color{Fuchsia}{eta}\\text{ is defined as:} \\quad\n",
    "\\color{Fuchsia}{\\eta\\,\\equiv\\,\n",
    "\\sqrt[3]{ \\frac{\n",
    "\\color{DarkGoldenrod}{\\varphi}\n",
    "\\color{Fuchsia}{}}{2} + \\frac{1}{2} \\sqrt{\n",
    "\\color{DarkGoldenrod}{\\varphi}\n",
    "\\color{Fuchsia}{-}\\frac{5}{27}}}\\;+\\;}\n",
    "\\color{Fuchsia}{\n",
    "\\sqrt[3]{ \\frac{\n",
    "\\color{DarkGoldenrod}{\\varphi}\n",
    "\\color{Fuchsia}{}}{2} - \\frac{1}{2} \\sqrt{\n",
    "\\color{DarkGoldenrod}{\\varphi}\n",
    "\\color{Fuchsia}{-}\\frac{5}{27}}}}\n",
    "$$\n",
    "\n",
    "Both expressions are the same number, 37.616..., as shown in this \n",
    "<em>wolfram cloud notebook</em>[<sup>1</sup>](#fn1)\n",
    "\n",
    "\n",
    "\n",
    "## 2 Conventional solution\n",
    "\n",
    "One of the world's finest and most eloquent geometers <strong>Harold Scott MacDonald Coxeter,</strong> in his <strong>Uniform Polyhedra</strong>[<sup>2</sup>](#fn2).\n",
    "<br>\n",
    "<br>\n",
    "<font size=\"3\"><strong>Uniform Polyhedra, Section 10. The Snub Polyhedra</strong></font>\n",
    "<br>\n",
    "<br>\n",
    "<font size=\"2\">We construct $\\vert$ p q r by regarding the spherical triangles (p q r) as being alternately white\n",
    "and black (see § 3, especially figure 6). The three white triangles that surround a black one\n",
    "contain corresponding points forming an equilateral triangle which we may called a\n",
    "‘snub face' of $\\vert$ pqr. One of these three white triangles is derived from another, sharing\n",
    "with it the vertex P (say), by a rotation through $\\frac{2\\pi}{p}$ about P. If this rotation takes the chosen\n",
    "point $C\\prime\\prime\\prime$ in the first triangle to $C\\prime\\prime$ in the second, we have an isosceles triangle\n",
    "$C\\prime\\prime\\prime PC\\prime\\prime$\n",
    "whose base \n",
    "$C\\prime\\prime\\prime C\\prime\\prime$\n",
    "(opposite to the angle $\\frac{2\\pi}{p}$ at P) is one side of the snub face. Solving this\n",
    "isosceles triangle, we find.\n",
    "$\n",
    "\\sin PC\\prime\\prime\\sin\\frac{\\pi}{p}\\;=\\;\\sin\\frac{1}{2}C\\prime\\prime C\\prime\\prime\\prime\n",
    "$\n",
    "Besides the usual twelve pentagrams and sixty 'snub’ triangles, they have each forty more triangles, lying by pairs in twenty planes (the face-planes of an icosahedron).</font>\n",
    "\n",
    "$$\n",
    "Let\\;\\color{Teal}{xi\\;\\xi}\\;be\\;the\\;real\\;root\\;of\\;the\\;polynomial:\\;\n",
    "X^3 + 2X^2 - \\color{DarkGoldenrod}{\\varphi^2} = 0\\quad where\\;\n",
    "\\color{Teal}{\\xi\\,}=\\,\n",
    "\\frac{\n",
    "\\color{DarkGoldenrod}{\\varphi}}{\n",
    "\\color{Fuchsia}{\\eta}\n",
    "}\n",
    "$$\n"
   ]
  },
  {
   "cell_type": "markdown",
   "metadata": {},
   "source": [
    "MathWorld--A Wolfram Web Resource by <strong>Eric Weisstein</strong>\n",
    "shows in <strong>Snub Dodecahedron</strong>[<sup>3</sup>](#fn3) Coxeter's polynomial expression below from which the closed-form expression is derived as shown in Wikipedia <strong>Snub Dodecahedron</strong>[<sup>4</sup>](#fn4). The volume is the real root of x.\n",
    "\n",
    "\n",
    "$$\n",
    "187445810737515625 - \n",
    "182124351550575000\\,x^2  +\n",
    "6152923794150000\\,x^4 +\n",
    "\\\\\n",
    "1030526618040000\\,x^6 +\n",
    "162223191936000\\,x^8 -\n",
    "3195335070720\\,x^{10} +\n",
    "2176782336\\,x^{12} = 0\n",
    "$$\n",
    "\n",
    "\n",
    "## 3 Harish Chandra Rajpoot\n",
    "\n",
    "<strong>Harish Chandra Rajpoot</strong> published <strong>Optimum Solution of Snub Dodecahedron</strong>[<sup>5</sup>](#fn5) HCR's Theory of Polygon & Newton-Raphson Method is used to calculate the volume of the Snub Dodecahedron.\n",
    "After only 7 iterations, the calculated volume matches the closed-form solutions to 50 digits of accuracy. \n",
    "\\begin{align*}\n",
    "\\\\&\n",
    "Iterate\\,to\\,find\\,Circumradius\\quad\n",
    "C_{0} = 2.3\\quad C_{n+1}=\\frac{f(C_{n})}{f\\prime (C_{n})}\n",
    "\\\\&\n",
    "f(x)= 256(3-\\sqrt{5})x^8 - 128(13-2\\sqrt{5})x^6 + 32(35-3\\sqrt{5})x^4 - 16(19-\\sqrt{5})x^2 +(29-\\sqrt{5})\n",
    "\\\\&\n",
    "f\\prime(x)= 2048(3-\\sqrt{5})x^7 - 768(13-2\\sqrt{5})x^5 + 128(35-3\\sqrt{5})x^3 - 32(19-\\sqrt{5})x\n",
    "\\\\&\n",
    "Volume = \\left( \\frac{20\\sqrt{3C^2-1}}{3} + \n",
    "\\sqrt{ \\frac{10(5+2\\sqrt{5})C^2 - 5((7+3\\sqrt{5})}{2}} \\right)\n",
    "\\end{align*}\n"
   ]
  },
  {
   "cell_type": "markdown",
   "metadata": {},
   "source": [
    "![Snub_Dodecahedron](https://upload.wikimedia.org/wikipedia/commons/c/c3/Left_and_Right_handed_Snub_Dodecahedron.png)"
   ]
  },
  {
   "cell_type": "markdown",
   "metadata": {},
   "source": [
    "\n",
    "## 4 Numerical\n",
    "\n",
    "<strong>Five volume calculations for Snub Dodecahedron</strong>[<sup>6</sup>](#fn6)\n",
    " is a supplement to this essay. Five Python classes, each calculating the volume of the Snub Dodecahedron in a different way, the four methods above plus a 3D Numerical method. 3D distances drive a numerical root finder. Two triangle objects are defined as adjacent triangles on a regular icosahedron. The algorithm is applied to one point on the plane of each triangle so that the distance of a side of an inscribed snub triangle is equal to the side of a non inscribed snub triangle.\n",
    "\n",
    "## 5 Alternate solution\n",
    "Mark Adams published <strong>Archimedean Platonic Solids</strong>[<sup>7</sup>](#fn7). The Snub Dodecahedron is inscribed on to its base icosahedron of unit edge length.\n",
    "\n",
    "\n"
   ]
  },
  {
   "cell_type": "markdown",
   "metadata": {},
   "source": [
    "![Fig1](https://upload.wikimedia.org/wikipedia/commons/f/f2/Figure_1._for_solution_to_Snub_Dodecahedron.png)"
   ]
  },
  {
   "cell_type": "markdown",
   "metadata": {},
   "source": [
    "<math>\n",
    "\\begin{array}{ll}\n",
    "Base\\,Icosahedron\\,faces:\\quad \\color{blue}{\\triangle A\\,B\\,C,\\; \\triangle A\\prime \\,B\\,C}\n",
    "&\n",
    "\\color {blue}{\\overline{AB}} \\,=\\,\n",
    "\\color {blue}{\\overline{BC}} \\,=\\,\n",
    "\\color {blue}{\\overline{CA}} \\,=\\,\n",
    "\\color {blue}{\\overline{A\\prime}B} \\,=\\,\n",
    "\\color {blue}{\\overline{CA\\prime}} \\,=\\, 1\n",
    "\\\\\n",
    "Inscribed\\,Snub\\,Dodecahedron\\,faces:\\quad \\color {blue}{\\triangle g\\,j\\,k,\\; \\triangle g\\prime\\,j\\prime\\,k\\prime}\n",
    "&\n",
    "\\color {red}{\\overline{gj}} \\,=\\,\n",
    "\\color {red}{\\overline{jk}} \\,=\\,\n",
    "\\color {red}{\\overline{kg}} \\,=\\,\n",
    "\\color {red}{\\overline{gg\\prime}} \\,=\\,\n",
    "\\color {red}{\\overline{g\\prime j}} \\,=\\, \\color{DarkGreen}{D\\,=\\, \\sqrt{3}\\sin\\alpha-\\cos\\alpha}\n",
    "\\\\\n",
    "Non\\,Inscribed\\,Snub\\,Dodecahedron\\,faces:\\quad \\color {red}{\\triangle g\\,g\\prime\\,j,\\; \\triangle g\\prime\\,g\\,j\\prime}\n",
    "&\n",
    "\\overline{\\color {red}{g}\\color {blue}{i}} \\,=\\,\n",
    "\\overline{\\color {blue}{i}\\color {red}{j}} \\,=\\,\n",
    "\\overline{\\color {blue}{i}\\color {DarkGreen}{d}} \\,=\\,\n",
    "\\overline{\\color {red}{g}\\color {DarkGreen}{d}} \\,=\\,\n",
    "\\overline{\\color {DarkGreen}{d}\\color {red}{g\\prime}} \\,=\\,\n",
    "\\color{DarkGreen}{\\frac{D}{2}}\n",
    "\\\\\n",
    "Mid\\,points\\,on\\, \\color {red}{\\triangle g\\,g\\prime\\,j}:\\quad\\color {blue}{i} \\; \\color {DarkGreen}{d} \\; \\color {red}{m}\n",
    "&\n",
    "\\color{red}{ \\overline{\\color{blue}{a}\\color{DarkGreen}{f}}^2} \\,+\\,\n",
    "\\color{red}{ \\overline{\\color{DarkGreen}{f}\\color{red}{g}}^2} \\,=\\,\n",
    "\\color{blue}{ \\overline{\\color{blue}{a}\\color{red}{g}}^2} \\,=\\,\n",
    "\\color{DarkGreen}{\\frac{D^2}{3}}\n",
    "\\\\\n",
    "Center\\,point\\,for\\,both\\,\\color {blue}{\\triangle A\\,B\\,C\\,and\\,\\triangle g\\,j\\,k:\\quad a}\n",
    "&\n",
    "\\color{blue}{ \\overline{\\color{blue}{a}\\color{DarkGreen}{h}}^2} \\,+\\,\n",
    "\\color{blue}{ \\overline{\\color{DarkGreen}{h}\\color{blue}{i}}^2} \\,=\\,\n",
    "\\color{blue}{ \\overline{\\color{blue}{a}\\color{blue}{i}}^2} \\,=\\,\n",
    "\\color{DarkGreen}{\\frac{D^2}{12}}\n",
    "\\\\\n",
    "Center\\,point\\,for\\,both\\,\\color {blue}{\\triangle A\\prime\\,B\\,C\\,and\\,\\triangle g\\prime\\,j\\prime\\,k\\prime:\\quad a\\prime}\n",
    "&\n",
    "\\color{blue}{ \\overline{\\color{blue}{a}\\color{DarkGreen}{h}}} \\,=\\,\n",
    "\\color{blue}{ \\overline{ai}\\cos(60-\\alpha)} \\,=\\,\n",
    "\\color{DarkGreen}{\\frac{D}{4\\sqrt{3}} (\\cos\\alpha+\\sqrt{3}\\sin\\alpha)}\n",
    "\\\\\n",
    "Center\\,point\\,for\\,both\\,Icosahedron\\,and\\,Snub Dodecahedron:\\quad \\color{blue}{c}\\quad\\quad\n",
    "&\n",
    "\\color{blue}{ \\overline{\\color{blue}{a}\\color{DarkGreen}{f}}} \\,=\\,\n",
    "\\color{blue}{ \\overline{a\\color{red}{g}}\\cos\\alpha} \\,=\\,\n",
    "\\color{DarkGreen}{ \\frac{D}{ \\sqrt{3}}\\cos\\alpha}\n",
    "\\\\\n",
    "Right\\,angles:\\quad\n",
    "\\color{DarkGreen}{\\angle} \\color{DarkGreen}{f}\\color{DarkGreen}{e}\\color{DarkGreen}{d}\\;\n",
    "\\color{DarkGreen}{\\angle} \\color{DarkGreen}{f}\\color{DarkGreen}{d}\\color{red}{b}\\;\n",
    "\\color{blue}{\\angle} \\color{blue}{a}\\color{DarkGreen}{f}\\color{red}{g}\\;\n",
    "\\color{DarkGreen}{\\angle} \\color{blue}{a}\\color{DarkGreen}{h}\\color{blue}{i}\\;\n",
    "\\color{blue}{\\angle} \\color{blue}{a\\prime}\\color{DarkGreen}{f\\prime}\\color{red}{g\\prime}\\;\n",
    "&\n",
    "\\color{red}{ \\overline{\\color{DarkGreen}{f}\\color{red}{b}}} \\,=\\,\n",
    "\\color{red}{ \\overline{\\color{blue}{a}\\color{red}{b}}} \\,-\\,\n",
    "\\color{blue}{ \\overline{\\color{blue}{a}\\color{DarkGreen}{f}}} \\,=\\,\n",
    "\\color{DarkGreen}{\\frac{1}{2\\sqrt{3}} (1-2D\\cos\\alpha})\n",
    "\\\\\n",
    "Distance\\,of\\,the \\,Snub\\,Dodecahedron\\,edge:\\quad\\color{DarkGreen}{D}\n",
    "&\n",
    "\\color{red}{  \\overline{  \\color{DarkGreen}{e}\\color{red}{b}} } \\,=\\,\n",
    "\\color{red}{  \\overline{  \\color{DarkGreen}{d}\\color{red}{b}} \\,sin\\beta} \\,=\\,\n",
    "\\color{red}{  \\overline{  \\color{DarkGreen}{f}\\color{red}{b}} \\,sin^2\\beta}\n",
    "\\\\\n",
    "&\n",
    "\\color{red}{  \\overline{  \\color{DarkGreen}{e}\\color{red}{b}}^2 } \\,+\\,\n",
    "\\color{blue}{  \\overline{  \\color{DarkGreen}{e}\\color{DarkGreen}{d}}^2} \\,=\\,\n",
    "\\color{red}{  \\overline{   \\color{DarkGreen}{e}\\color  {red}{b}}^2} \\,\n",
    "(\\color{red}{1+}\\color{blue}{\\cot^2\\beta} \\color{red}{)} \\,=\\,\n",
    "\\color{red}{  \\overline{  \\color{DarkGreen}{e}\\color{red}{b}}}\\,\n",
    "\\color{red}{  \\overline{  \\color{DarkGreen}{f}\\color{red}{b}}}\n",
    "\\end{array}\n",
    "</math>"
   ]
  },
  {
   "cell_type": "markdown",
   "metadata": {},
   "source": [
    "$\n",
    "\\text{Equations 1 and 2 are second order equations of} \\;\\color{DarkGreen}{D}.\n",
    "$\n"
   ]
  },
  {
   "cell_type": "markdown",
   "metadata": {},
   "source": [
    "$\n",
    "\\quad \\color{red}{ \\overline{\\color{red}{g}\\color{DarkGreen}{d}}^2} \\,-\\,\n",
    "\\color{DarkGreen}{\\frac{D^2}{4}} \\,=\\,\n",
    "\\color{red}{ \\overline{\\color{red}{g}\\color{DarkGreen}{f}}^2} \\,+\\,\n",
    "\\color{blue}{ (  \\overline{\\color{blue}{a}\\color{red}{b}}} \\,-\\,\n",
    "\\color{blue}{    \\overline{\\color{blue}{a}\\color{DarkGreen}{f}}} \\,-\\,\n",
    "\\color{DarkGreen}{    \\overline{\\color{DarkGreen}{e}\\color{red}{b}}  )^2  } \\,+\\,\n",
    "\\color{DarkGreen}{ \\overline{\\color{DarkGreen}{e}\\color{DarkGreen}{d}}^2} \\,-\\,\n",
    "\\color{DarkGreen}{\\frac{D^2}{4}} \\,=\\,0\n",
    "$"
   ]
  },
  {
   "cell_type": "markdown",
   "metadata": {},
   "source": [
    "$\n",
    "\\quad \\color{blue}{   \\overline{\\color{blue}{a}\\color{red}{g}}^2} \\,+\\,\n",
    "\\color{blue}{   \\overline{\\color{blue}{a}\\color{red}{b}}^2} \\,-\\,\n",
    "\\color{blue} {2\\,\\overline{\\color{blue}{a}\\color{red}{b}}} \\,\n",
    "\\color{blue}{   \\overline{\\color{blue}{a}\\color{DarkGreen}{f}}} \\,+\\,\n",
    "\\color{DarkGreen} {   \\overline{\\color{DarkGreen}{e}\\color{red}{b}} \\, \\lbrack } \\,\n",
    "\\color{blue}{2\\,\\overline{\\color{blue }{a}\\color{DarkGreen}{f}}} \\,-\\,\n",
    "\\color{blue}{2\\,\\overline{\\color{blue }{a}\\color{red  }{b}}} \\,+\\,\n",
    "\\color{DarkGreen}{   \\overline{\\color{DarkGreen}{f}\\color{red}{b}} \\rbrack }\\,-\\,\n",
    "\\color{DarkGreen}{\\frac{D^2}{4}} \\,=\\,0\n",
    "$"
   ]
  },
  {
   "cell_type": "markdown",
   "metadata": {},
   "source": [
    "$\n",
    "\\quad \\color{red}{ \\frac{D^2}{3} \\,+\\, \\frac{1}{12}  \\,-\\,  \\frac{D}{3} \\, \\cos\\alpha  \\,+\\,  }\n",
    "\\color{red}{ \\sin^2\\beta \\, \\frac{1\\,-\\,2\\,D\\cos\\alpha}{2\\sqrt{3}}}\n",
    "\\color{red}{ \\left[ \\frac{2\\,D\\cos\\alpha}{\\sqrt{3}} \\,-\\, \\frac{1}{\\sqrt{3}} \\,+\\, \\frac{1\\,-\\,2\\,D\\cos\\alpha}{2\\sqrt{3}} \\right] } \\,-\\,\n",
    "\\color{DarkGreen}{\\frac{D^2}{4}} \\,=\\,0\n",
    "$"
   ]
  },
  {
   "cell_type": "markdown",
   "metadata": {},
   "source": [
    "$\n",
    "\\color{red}{ D^2 \\,-\\, 4D\\,\\cos\\alpha \\,+\\, 1 \\,-\\, \\sin^2\\beta \\,(1 \\,-\\, 2\\,D\\,\\cos\\alpha)^2  \\,=\\, 0 \\quad(Eq.1)}\n",
    "$"
   ]
  },
  {
   "cell_type": "markdown",
   "metadata": {},
   "source": [
    "$\n",
    "\\quad \\color{blue}{ \\overline{\\color{blue}{i}\\color{DarkGreen}{d}}^2} \\,-\\,\n",
    "\\color{DarkGreen}{\\frac{D^2}{4}} \\,=\\,\n",
    "\\color{DarkGreen}{ \\overline{\\color{DarkGreen}{h}\\color{blue}{i}}^2} \\,+\\,\n",
    "\\color{blue}{ (  \\overline{\\color{blue}{a}\\color{red}{b}}} \\,-\\,\n",
    "\\color{blue}{    \\overline{\\color{blue}{a}\\color{DarkGreen}{h}}} \\,-\\,\n",
    "\\color{DarkGreen}{    \\overline{\\color{DarkGreen}{e}\\color{red}{b}} }  \\color{blue }{)^2}  \\,+\\,\n",
    "\\color{DarkGreen}{ \\overline{\\color{DarkGreen}{e}\\color{DarkGreen}{d}}^2} \\,-\\,\n",
    "\\color{DarkGreen}{\\frac{D^2}{4}} \\,=\\,0\n",
    "$"
   ]
  },
  {
   "cell_type": "markdown",
   "metadata": {},
   "source": [
    "$\n",
    "\\quad \\color{blue}{   \\overline{\\color{blue}{a}\\color{blue}{i}}^2} \\,+\\,\n",
    "\\color{blue}{   \\overline{\\color{blue}{a}\\color{red}{b}}^2} \\,-\\,\n",
    "\\color{blue} {2\\,\\overline{\\color{blue}{a}\\color{red}{b}}} \\,\n",
    "\\color{blue}{   \\overline{\\color{blue}{a}\\color{DarkGreen}{h}}} \\,+\\,\n",
    "\\color{DarkGreen} {   \\overline{\\color{DarkGreen}{e}\\color{red}{b}} \\, \\lbrack } \\,\n",
    "\\color{blue}{2\\,\\overline{\\color{blue }{a}\\color{DarkGreen}{h}}} \\,-\\,\n",
    "\\color{blue}{2\\,\\overline{\\color{blue }{a}\\color{red  }{b}}} \\,+\\,\n",
    "\\color{DarkGreen}{   \\overline{\\color{DarkGreen}{f}\\color{red}{b}} \\rbrack }\\,-\\,\n",
    "\\color{DarkGreen}{\\frac{D^2}{4}} \\,=\\,0\n",
    "$"
   ]
  },
  {
   "cell_type": "markdown",
   "metadata": {},
   "source": [
    "$\n",
    "\\quad \\color{blue}{ \\frac{D^2}{12} \\,+\\, \\frac{1}{12}  \\,-\\,  \\frac{D}{12} \\, (\\cos\\alpha \\,+\\, \\sqrt{3}\\sin\\alpha)  \\,+\\,  }\n",
    "\\color{blue}{ \\sin^2\\beta \\, \\frac{1\\,-\\,2\\,D\\cos\\alpha}{2\\sqrt{3}}}\n",
    "\\color{blue}{ \\left[ \\frac{D(\\cos\\alpha \\,+\\, \\sqrt{3}\\sin\\alpha)}{2\\sqrt{3}} \\,-\\, \\frac{1}{\\sqrt{3}} \\,+\\,\\frac{1\\,-\\,2\\,D\\cos\\alpha}{2\\sqrt{3}}\\right]}\\,-\\,\n",
    "\\color{DarkGreen}{\\frac{D^2}{4}} \\,=\\,0\n",
    "$"
   ]
  },
  {
   "cell_type": "markdown",
   "metadata": {},
   "source": [
    "$\n",
    "\\color{blue}{ -2D^2 \\,-\\, D\\,(\\cos\\alpha \\,+\\, \\sqrt{3}\\sin\\alpha) \\,+\\, 1 \\,-\\, \\sin^2\\beta \\,(1 \\,-\\, 2\\,D\\,\\cos\\alpha) \\,}\n",
    "\\color{blue}{ \\left[ 1 \\,+\\, D\\,(\\cos\\alpha \\,+\\, \\sqrt{3}\\sin\\alpha)  \\right]  \\,=\\, 0 \\quad(Eq.2)}\n",
    "$"
   ]
  },
  {
   "cell_type": "markdown",
   "metadata": {},
   "source": [
    "$\n",
    "\\text{Equations 3 and 4 are trigonometric operators defining gamma letters:} \\;\\color{red}{\\gamma}\\;\\text{and}\\;\\color{blue}{\\Gamma}.\n",
    "$"
   ]
  },
  {
   "cell_type": "markdown",
   "metadata": {},
   "source": [
    "$\n",
    "\\color{red}{\\gamma \\,\\equiv\\,\\sqrt{3}\\,\\tan\\alpha} \\quad\n",
    "\\color{blue}{\\Gamma \\,\\equiv\\,3\\cos\\alpha-\\sqrt{3}\\,\\sin\\alpha}\n",
    "$"
   ]
  },
  {
   "cell_type": "markdown",
   "metadata": {},
   "source": [
    "$\n",
    "\\color{blue}{\\cos^2\\alpha} \\,+\\, \\color{red}{\\sin^2\\alpha} \\,=\\, 1 \\,=\\,\n",
    "\\color{blue}{\\cos^2\\alpha \\left(1 \\,+\\, \\color{red}{\\frac{\\gamma^2}{3}}\\right)  } \\quad or \\quad\n",
    "\\color{blue}{ \\cos^2\\alpha\\,=\\,\\frac{1}{ 1 \\,+\\, \\color{red}{  \\frac{\\gamma^2}{3}} }}\n",
    "$"
   ]
  },
  {
   "cell_type": "markdown",
   "metadata": {},
   "source": [
    "$\n",
    "\\color{blue}{ \\Gamma\\,\\cos\\alpha \\,=\\,  (\\cos\\alpha -\\color{red}{\\sqrt{3}\\sin\\alpha}) \\cos\\alpha }\\,=\\,\n",
    "\\color{blue}{ (3 \\,-\\, \\color{red}{\\gamma}) \\, \\cos^2\\alpha \\,=\\, \\frac{3\\,-\\,\\color{red}{\\gamma}}{1 \\,+\\, \\color{red}{ \\frac{\\gamma^2}{3}} }}\n",
    "$"
   ]
  },
  {
   "cell_type": "markdown",
   "metadata": {},
   "source": [
    "$\n",
    "\\color{red}{ 3 \\left( 1 \\,+\\, \\frac{\\gamma^2}{3} \\right)}\n",
    "\\color{red}{ \\left[ \\color{blue}{\\Gamma\\,\\cos\\alpha\\,-\\,}\n",
    "\\color{blue}{ \\frac{3\\,-\\,\\color{red}{\\gamma}}{1 \\,+\\, \\color{red}{ \\frac{\\gamma^2}{3}} }} \\right]} \\,=\\,\n",
    "\\color{red}{ \\overbrace{\\Gamma\\,\\cos\\alpha}^{a}\\;\\gamma^2 \\,+\\, \\overbrace{3}^{b}\\;\\gamma + \\overbrace{3( \\Gamma\\,\\cos\\alpha\\,-\\,3)}^{c} }\\,=\\,0\n",
    "$"
   ]
  },
  {
   "cell_type": "markdown",
   "metadata": {},
   "source": [
    "$\n",
    "Positive\\,Root:\\;\\color{red}{ \\gamma \\,=\\, \\frac{-b+\\sqrt{b^2-4\\,a\\,c}}{2\\,a} } =\n",
    "\\color{red}{ \\frac{ -3 + \\sqrt{ 9-12\\,\\Gamma\\cos\\alpha(\\Gamma\\cos\\alpha -3)}}{2\\Gamma\\,\\cos\\alpha} \\quad(Eq.3) }\n",
    "$"
   ]
  },
  {
   "cell_type": "markdown",
   "metadata": {},
   "source": [
    "$\n",
    "\\color{blue}{ \\Gamma^2 \\,=\\, \\Gamma\\,\\cos\\alpha \\,(3 - \\gamma) }\\,=\\,\n",
    "\\color{blue}{ 3\\Gamma\\,\\cos\\alpha - \\frac{1}{2}\\left[ -3 + \\sqrt{ 9-12\\,\\Gamma\\cos\\alpha(\\Gamma\\cos\\alpha -3)} \\right] \\quad (Eq. 4)}\n",
    "$"
   ]
  },
  {
   "cell_type": "markdown",
   "metadata": {},
   "source": [
    "$\n",
    "\\text{Combine Equations 1 and 2 with variable y to solve between D and }\\alpha\n",
    "$"
   ]
  },
  {
   "cell_type": "markdown",
   "metadata": {},
   "source": [
    "$\n",
    "\\color{DarkGoldenrod}{ Golden\\,Ratio\\,phi:\\;\\varphi\\,\\equiv\\, \\frac{1+\\sqrt{5}}{2} }\n",
    "\\quad\\quad\\color{red}{ Icosa\\,symmetry:\\;\\sin^2\\beta\\,=\\,\\frac{1}{3\\varphi^2}}\n",
    "$"
   ]
  },
  {
   "cell_type": "markdown",
   "metadata": {},
   "source": [
    "$\n",
    "\\color{blue}{Combine:}\\quad\\color{blue}{ 3\\varphi^2(Eq.2)} \\;+\\;  \\color{red}{3\\varphi^2(Eq.1) \\color{DarkGreen}{y}} \\,=\\,0\n",
    "$"
   ]
  },
  {
   "cell_type": "markdown",
   "metadata": {},
   "source": [
    "$\n",
    "\\color{DarkGreen}{\\overbrace{\\left[3\\varphi^2(y-2)+2\\left((1-2y)\\cos\\alpha-\\sqrt{3}\\sin\\alpha\\right)\\cos\\alpha\\right]}^{i}\\,D^2 \\,-\\,}\n",
    "\\color{DarkGreen}{\\overbrace{\\left((4y+1)\\cos\\alpha+\\sqrt{3}\\sin\\alpha\\right)\\varphi^4}^{j}\\,D\\;+}\n",
    "\\color{DarkGreen}{\\overbrace{(y+1)\\varphi^4}^{k}}\\,=\\,0\n",
    "$"
   ]
  },
  {
   "cell_type": "markdown",
   "metadata": {},
   "source": [
    "$\n",
    "\\color{DarkGreen}{Define}\\,\\color{red}{mu}\\,and\\,\\color{blue}{lambda:}\\;\n",
    "\\color{DarkGreen}{j^2-4ik \\,\\equiv\\,(}\n",
    "\\color{red}{\\mu}\\color{DarkGreen}{\\cos\\alpha\\,+\\,}\n",
    "\\color{blue}{\\lambda}\\color{DarkGreen}{\\sqrt{3}\\sin\\alpha)^2\\;=\\;}\n",
    "\\color{blue}{\\mu^2}\\color{DarkGreen}{\\cos^2\\alpha\\,+\\,}\n",
    "\\color{red}{(\\mu\\lambda)} \\color{DarkGreen}{2\\sqrt{3}\\cos\\alpha\\sin\\alpha +}\n",
    "\\color{blue}{\\lambda^2}\\color{DarkGreen}{3\\sin^2\\alpha}\n",
    "$"
   ]
  },
  {
   "cell_type": "markdown",
   "metadata": {},
   "source": [
    "$\n",
    "\\color{blue}{ \\underbrace{ \\left[ \\varphi^2(4y+1)^2-4\\varphi^2(y+1)\\left(3\\varphi^2(y-2)+2(1-2y)\\right)\\right]}_{\\mu^2} }\n",
    "\\color{DarkGreen}{\\cos^2\\alpha \\,+\\,}\n",
    "\\color{red}{ \\underbrace{ \\left[ \\varphi^8(4y+1)+4\\varphi^4(y+1) \\right]}_{(\\mu\\lambda)} }\n",
    "\\color{DarkGreen}{2\\sqrt{3}\\cos\\alpha\\sin\\alpha \\,+\\,}\n",
    "\\color{blue}{ \\underbrace{ \\left[ \\varphi^8-4\\varphi^6(y+1)(y-2) \\right]}_{\\lambda^2} }\n",
    "\\color{DarkGreen}{3\\sin^2\\alpha}\n",
    "$"
   ]
  },
  {
   "cell_type": "markdown",
   "metadata": {},
   "source": [
    "$\n",
    "Sum\\,components\n",
    "\\;\\color{red}{(\\mu\\lambda)^2}\n",
    "\\color{blue}{-\\mu^2\\lambda^2}\\,=\\,0\n",
    "\\;\\color{DarkGoldenrod}{using\\;identities\\quad \\varphi^{n+1}-\\varphi^{n-1}=\\varphi^{n}\\quad and \\quad \\varphi^{n+2}+\\varphi^{n-2}=3\\varphi^{n}}\n",
    "$"
   ]
  },
  {
   "cell_type": "markdown",
   "metadata": {},
   "source": [
    "$\n",
    "\\begin{array}{l}\n",
    "\\\\ \\color{DarkGoldenrod}{\\varphi^{16}}\n",
    "&\\color{DarkGoldenrod}{|}&&\\color{DarkGoldenrod}{|}&&\\color{DarkGoldenrod}{|}\\;\n",
    "\\color{red}{16}-\\color{blue}{16}\n",
    "&&\\color{DarkGoldenrod}{|}\\;\n",
    "\\color{red}{8}-\\color{blue}{8}\n",
    "&&\\color{DarkGoldenrod}{|}\\;\n",
    "\\color{red}{1}-\\color{blue}{1}\n",
    "\\\\ \\color{DarkGoldenrod}{\\varphi^{14}}\n",
    "&\\color{DarkGoldenrod}{|}\\;\n",
    "\\color{blue}{64}\n",
    "&&\\color{DarkGoldenrod}{|}\\;\n",
    "\\color{blue}{-32}\\quad\n",
    "&&\\color{DarkGoldenrod}{|}\\;\n",
    "\\color{blue}{-144}\n",
    "&&\\color{DarkGoldenrod}{|}\\;\n",
    "\\color{blue}{-80}\n",
    "&\n",
    "\\color{DarkGreen}{144}\n",
    "&\\color{DarkGoldenrod}{|}\\;\n",
    "\\color{blue}{-32}\n",
    "&\n",
    "\\color{DarkGreen}{-144}\n",
    "\\\\ \\color{DarkGoldenrod}{\\varphi^{12}}\n",
    "&\\color{DarkGoldenrod}{|}\\;\n",
    "\\color{blue}{-48}\\quad\n",
    "&\n",
    "\\color{DarkGreen}{144}\\;\n",
    "&\\color{DarkGoldenrod}{|}\\;\n",
    "\\color{blue}{96}\n",
    "&\n",
    "\\color{DarkGreen}{0}\\;\n",
    "&\\color{DarkGoldenrod}{|}\\;\n",
    "\\color{red}{32}\n",
    "\\color{blue}{+128}\\quad\n",
    "&\n",
    "\\color{DarkGreen}{-288}\n",
    "&\\color{DarkGoldenrod}{|}\\;\n",
    "\\color{red}{40}\n",
    "\\color{blue}{-200}\n",
    "&&\\color{DarkGoldenrod}{|}\\;\n",
    "\\color{red}{8}\n",
    "\\color{blue}{-184}\\quad\n",
    "&\n",
    "\\color{DarkGreen}{\\;144}\n",
    "\\\\ \\color{DarkGoldenrod}{\\varphi^{10}}\n",
    "&\\color{DarkGoldenrod}{|}\\;\n",
    "\\color{blue}{64}\n",
    "&&\\color{DarkGoldenrod}{|}\\;\n",
    "\\color{blue}{-32}\n",
    "&&\\color{DarkGoldenrod}{|}\\;\n",
    "\\color{blue}{-192}\n",
    "&&\\color{DarkGoldenrod}{|}\\;\n",
    "\\color{blue}{-32}\n",
    "&&\\color{DarkGoldenrod}{|}\\;\n",
    "\\color{blue}{64}\n",
    "\\\\ \\color{DarkGoldenrod}{\\varphi^{8}}\n",
    "&\\color{DarkGoldenrod}{|}&&\\color{DarkGoldenrod}{|}&&\\color{DarkGoldenrod}{|}\\;\n",
    "\\color{red}{16}\n",
    "&&\\color{DarkGoldenrod}{|}\\;\n",
    "\\color{red}{32}\n",
    "&&\\color{DarkGoldenrod}{|}\\;\n",
    "\\color{red}{16}\n",
    "\\\\ \\color{DarkGoldenrod}{\\div144\\varphi^{12}}\n",
    "&\\color{DarkGoldenrod}{|}&\n",
    "\\color{DarkGreen}{y^4}\n",
    "&\\color{DarkGoldenrod}{|}&\n",
    "&\\color{DarkGoldenrod}{|}&\n",
    "\\color{DarkGreen}{-2y^2\\;}\n",
    "&\\color{DarkGoldenrod}{|}&\n",
    "\\color{DarkGreen}{-\\varphi^2 y\\;}\n",
    "&\\color{DarkGoldenrod}{|}&\n",
    "\\color{DarkGreen}{\\;-\\varphi}\n",
    "\\end{array}\n",
    "$"
   ]
  },
  {
   "cell_type": "markdown",
   "metadata": {},
   "source": [
    "$\n",
    "\\begin{array}{lc}\n",
    "\\color{red}{First\\,root\\,of\\,y:\\;-1}\n",
    "&&&\\color{blue}{y^3}\n",
    "&\\color{blue}{\\overbrace{-y^2}^{p=-1}}\n",
    "&\\color{blue}{\\overbrace{-y}^{q=-1}}\n",
    "&\\color{blue}{\\overbrace{-\\varphi}^{r=-\\varphi}}\n",
    "\\\\\n",
    "\\color{blue}{a=\\frac{-p^2}{3}\n",
    "\\color{DarkGoldenrod}{\\subset}+q\\;=\\; \\frac{-1}{3}- \n",
    "\\color{DarkGoldenrod}{\\supset} 1\\;=\\;\\frac{-4}{3} }\n",
    "&\n",
    "\\color{red}{(y+1)}\n",
    "&\n",
    "\\color{DarkGreen}{\\overline{|\\;y^4}}\n",
    "&&\\quad\\color{DarkGreen}{-2y^2}\n",
    "&\\quad\\color{DarkGreen}{-\\varphi^2y}\n",
    "&\\color{DarkGreen}{-\\varphi}\n",
    "\\\\\n",
    "\\color{blue}{b=\\frac{2p^2}{27}-\\frac{pq}{3}+r}\n",
    "&&\n",
    "\\color{DarkGreen}{y^4}\n",
    "&\n",
    "\\color{DarkGreen}{+y^3}\n",
    "\\\\\n",
    "\\color{blue}{b=-\\frac{2}{27}-\\frac{1}{3}-\\varphi \\;=\\; \\frac{-49-27\\sqrt{5}}{54}}\n",
    "&&\n",
    "\\color{DarkGreen}{0}\n",
    "&\n",
    "\\color{DarkGreen}{-y^3}\n",
    "&\n",
    "\\color{DarkGreen}{-y^2}\n",
    "\\\\\n",
    "\\color{blue}{Second\\,root\\,of\\,y:}\n",
    "&&&\n",
    "\\color{DarkGreen}{0}\n",
    "&\n",
    "\\color{DarkGreen}{-y^2}\n",
    "&\n",
    "\\color{DarkGreen}{-y}\n",
    "\\\\\n",
    "\\color{blue}{\\frac{-p}{3}\n",
    "-\\sqrt[3]{ \\frac{b}{2}+\\sqrt{ \\frac{b^2}{4}+\\frac{a^3}{27}}}\n",
    "-\\sqrt[3]{ \\frac{b}{2}-\\sqrt{ \\frac{b^2}{4}+\\frac{a^3}{27}}}  \\;=\\; \\color{Fuchsia}{\\eta^2}-\\frac{1}{3}}\n",
    "&&&&\n",
    "\\color{DarkGreen}{0}\n",
    "&\n",
    "\\color{DarkGreen}{-\\varphi y}\n",
    "&\n",
    "\\color{DarkGreen}{-\\varphi}\n",
    "\\\\\n",
    "\\color{Fuchsia}{ eta:\\,\\eta\\,\\equiv\\,}\n",
    "\\color{Fuchsia}{ \\sqrt[3]{ \\frac{\\varphi}{2} + \\frac{1}{2} \\sqrt{ \\varphi-\\frac{5}{27}}}\\;+\\;}\n",
    "\\color{Fuchsia}{ \\sqrt[3]{ \\frac{\\varphi}{2} - \\frac{1}{2} \\sqrt{ \\varphi-\\frac{5}{27}}}}\n",
    "&&&&&\n",
    "\\color{DarkGreen}{0}\n",
    "&\n",
    "\\color{DarkGreen}{0}\n",
    "\\end{array}\n",
    "$"
   ]
  },
  {
   "cell_type": "markdown",
   "metadata": {},
   "source": [
    "Note: If <span style=\"color:blue\"><font size=\"3\"> a </font></span> is taken as $\\color{blue}{\\frac{2}{3}}$, then \n",
    "<span style=\"color:blue\">y</span> becomes an <span style=\"color:DarkGoldenrod\">Origin to one third powers of the golden ratio</span>\n"
   ]
  },
  {
   "cell_type": "markdown",
   "metadata": {},
   "source": [
    "$\n",
    "\\color{red}{From\\,the\\,first\\,root\\,of\\,y:} \\frac{ \\color{blue}{(Eq.2)} -\\color{red}{(Eq.1)}}{\\color{DarkGreen}{D}}\\;=\\;0\n",
    "$"
   ]
  },
  {
   "cell_type": "markdown",
   "metadata": {},
   "source": [
    "$\n",
    "\\color{DarkGreen}{ \\left[ 2(3\\cos\\alpha-\\sqrt{3}\\sin\\alpha)\\cos\\alpha-9\\varphi^2\\right] D \\;+\\; \\varphi^4(3\\cos\\alpha-\\sqrt{3}\\sin\\alpha)}\\;=\\;\n",
    "\\color{DarkGreen}{\\left[ 2\\Gamma\\cos\\alpha-9\\varphi^2\\right] D \\;+\\; \\varphi^4\\Gamma}\\;=\\;0\n",
    "$"
   ]
  },
  {
   "cell_type": "markdown",
   "metadata": {},
   "source": [
    "$\n",
    "\\color{DarkGreen}{D\\;=\\;\\frac{ \\varphi^4\\Gamma}{9\\varphi^2 - 2\\Gamma\\cos\\alpha} \\quad(Eq.5)}\n",
    "$"
   ]
  },
  {
   "cell_type": "markdown",
   "metadata": {},
   "source": [
    "$\n",
    "\\color{red}{\\frac{ \\Gamma(9\\varphi^2 - 2\\Gamma\\cos\\alpha)}{ 3\\varphi^2D} (Eq.1)} \\;=\\;0\n",
    "\\quad\\color{DarkGreen}{(substitute\\,D\\,with\\,Eq.5)}\n",
    "$"
   ]
  },
  {
   "cell_type": "markdown",
   "metadata": {},
   "source": [
    "$\n",
    "\\color{red}{ \\frac{ \\Gamma(9\\varphi^2 - 2\\Gamma\\cos\\alpha)}{ 3\\varphi^2}}\n",
    "\\color{red}{\\left[ (3\\varphi^2-4\\cos^2\\alpha)  \\color{DarkGreen}{ \\left( \\frac{ \\varphi^4\\Gamma}{9\\varphi^2-2\\Gamma\\cos\\alpha} \\right)}\n",
    "-4\\varphi^4\\cos\\alpha+\\varphi^4   \\color{DarkGreen}{ \\left( \\frac{9\\varphi^2-2\\Gamma\\cos\\alpha}{ \\varphi^4\\Gamma} \\right)}\n",
    "\\right]} \\;=\\;0\n",
    "$"
   ]
  },
  {
   "cell_type": "markdown",
   "metadata": {},
   "source": [
    "$\n",
    "\\color{red}{4(\\Gamma\\cos\\alpha)^2 - 36\\varphi^2\\Gamma\\cos\\alpha + 27\\varphi^2 + \\varphi^4\\Gamma^2} \\;=\\;0\n",
    "\\quad\\color{blue}{(substitute\\,\\Gamma^2\\,with\\,Eq.4)}\n",
    "$"
   ]
  },
  {
   "cell_type": "markdown",
   "metadata": {},
   "source": [
    "$\n",
    "\\color{red}{4(\\Gamma\\cos\\alpha)^2 + 3\\varphi^2(\\color{blue}{\\varphi^4}-12)\\Gamma\\cos\\alpha + \\frac{3}{2}\\varphi^2(\\color{blue}{\\varphi^2}+18)}\\;=\\;\n",
    "\\color{blue}{ \\frac{\\varphi^4}{2}\\sqrt{9-12\\Gamma\\cos\\alpha(\\Gamma\\cos\\alpha - 3)}}\n",
    "$"
   ]
  },
  {
   "cell_type": "markdown",
   "metadata": {},
   "source": [
    "$\n",
    "\\color{DarkGreen}{\\text{Square both sides and subtract}}\n",
    "$"
   ]
  },
  {
   "cell_type": "markdown",
   "metadata": {},
   "source": [
    "$\n",
    "\\color{DarkGreen}{16(\\Gamma\\cos\\alpha)^4 + 24\\varphi^2(\\varphi^2-12)(\\Gamma\\cos\\alpha)^3 +\n",
    "36\\varphi^2(21\\varphi^2 + 11)(\\Gamma\\cos\\alpha)^2 + 54\\varphi^4(\\varphi^2-36)\\Gamma\\cos\\alpha + 81\\varphi^4(\\varphi^2+9)}\\;=\\;0\n",
    "$"
   ]
  },
  {
   "cell_type": "markdown",
   "metadata": {},
   "source": [
    "$\n",
    "\\color{DarkGreen}{ Define\\;x:\\quad x\\equiv\\frac{2}{3}\\Gamma\\cos\\alpha \\quad \\text{ and divide by 81:}}\n",
    "$"
   ]
  },
  {
   "cell_type": "markdown",
   "metadata": {},
   "source": [
    "$\n",
    "\\color{DarkGreen}{x^4 + \\varphi^2(\\varphi^2-12)x^3 + \\varphi^2(21\\varphi^2+11)x^2 + \\varphi^4(\\varphi^2-36)x + \\varphi^4(\\varphi^2+9)}\\;=\\;0\n",
    "$"
   ]
  },
  {
   "cell_type": "markdown",
   "metadata": {},
   "source": [
    "$\n",
    "\\begin{array}{lc}\n",
    "&&\\color{blue}{x^3}\n",
    "&\\color{blue}{\\overbrace{-9\\varphi^2}^{p=-9\\varphi^2}x^2}\n",
    "&\\color{blue}{\\overbrace{+\\varphi^2(21\\varphi^2+2)}^{q=\\varphi^2(21\\varphi^2+2)}x}\n",
    "&\\color{blue}{\\overbrace{-\\varphi^4(\\varphi^2+9)}^{r=-\\varphi^4(\\varphi^2+9)}}\n",
    "\\\\\n",
    "\\color{red}{(x-1)}\n",
    "&\\quad\n",
    "\\color{DarkGreen}{\\overline{|\\;x^4}}\n",
    "\\quad&\\quad\\color{DarkGreen}{+\\varphi^2(\\varphi^2-12)x^3}\n",
    "\\quad&\\quad\\color{DarkGreen}{+\\varphi^2(21\\varphi^2+11)x^2}\n",
    "\\quad&\\color{DarkGreen}{+\\varphi^4(\\varphi^2-36)x}\n",
    "\\quad&\\color{DarkGreen}{+\\varphi^4(\\varphi^2+9)}\n",
    "\\\\\n",
    "&\n",
    "\\color{DarkGreen}{x^4}\n",
    "&\n",
    "\\color{DarkGreen}{-x^3}\n",
    "\\\\\n",
    "&\n",
    "\\color{DarkGreen}{0}\n",
    "&\n",
    "\\color{DarkGreen}{-9\\varphi^2x^3}\n",
    "&\n",
    "\\color{DarkGreen}{+9\\varphi^2x^2}\n",
    "\\\\\n",
    "&&\n",
    "\\color{DarkGreen}{0}\n",
    "&\n",
    "\\color{DarkGreen}{\\varphi^2(21\\varphi^2+2)x^2}\n",
    "&\n",
    "\\color{DarkGreen}{-\\varphi^2(21\\varphi^2+2)x}\n",
    "\\\\\n",
    "&&&\n",
    "\\color{DarkGreen}{0}\n",
    "&\n",
    "\\color{DarkGreen}{-\\varphi^4(\\varphi^2+9)x}\n",
    "&\n",
    "\\color{DarkGreen}{\\varphi^4(\\varphi^2+9)}\n",
    "\\\\\n",
    "&&&&\n",
    "\\color{DarkGreen}{0}\n",
    "&\n",
    "\\color{DarkGreen}{0}\n",
    "\\\\\n",
    "\\end{array}\n",
    "$"
   ]
  },
  {
   "cell_type": "markdown",
   "metadata": {},
   "source": [
    "$\n",
    "\\color{red}{First\\,root\\,of\\,x:\\;1}\n",
    "\\\\\n",
    "\\color{blue}{a=\\frac{-p^2}{3}+q\\;=\\; -27\\varphi^4+\\varphi^2(21\\varphi^2+2) \\;=\\; -2\\varphi^6  }\n",
    "\\\\\n",
    "\\color{blue}{b=\\frac{2p^2}{27}-\\frac{pq}{3}+r}\n",
    "\\\\\n",
    "\\color{blue}{b=-54\\varphi^6 + 3\\varphi^4(21\\varphi^2+2) - \\varphi^4(\\varphi^2+9)\\;=\\;\\color{DarkGoldenrod}{\\varphi^{10}}}\n",
    "\\\\\n",
    "\\\\\n",
    "\\color{blue}{Second\\,root\\,of\\,x:}\n",
    "\\\\\n",
    "\\color{blue}{\\frac{-p}{3}\n",
    "-\\sqrt[3]{ \\frac{b}{2}+\\sqrt{ \\frac{b^2}{4}+\\frac{a^3}{27}}}\n",
    "-\\sqrt[3]{ \\frac{b}{2}-\\sqrt{ \\frac{b^2}{4}+\\frac{a^3}{27}}}  \\;=\\; 3\\varphi^2-\\varphi^3\\eta}\n",
    "$"
   ]
  },
  {
   "cell_type": "markdown",
   "metadata": {},
   "source": [
    "$\n",
    "\\color{blue}{\\text{From the second root of x:} \\quad \\Gamma\\cos\\alpha \\;=\\; \\frac{3}{2}(3\\varphi^2-\\varphi^3\\eta)\\quad(Eq.6) }\n",
    "$"
   ]
  },
  {
   "cell_type": "markdown",
   "metadata": {},
   "source": [
    "$\n",
    "\\color{DarkGreen}{ \\left( \\sqrt[3]{ \\frac{\\varphi}{2} + \\sqrt{ \\frac{\\varphi^2}{4}-\\frac{8}{27}}}\\right)}\n",
    "\\color{DarkGreen}{ \\left( \\sqrt[3]{ \\frac{\\varphi}{2} - \\sqrt{ \\frac{\\varphi^2}{4}-\\frac{8}{27}}}\\right)}\n",
    "\\color{DarkGreen}{\\;=\\; \\sqrt[3]{\\frac{8}{27}} \\;=\\; \\frac{2}{3} \\quad so, \\quad \\eta^3 = 2\\eta + \\varphi\\quad(Eq.7)}\n",
    "$"
   ]
  },
  {
   "cell_type": "markdown",
   "metadata": {},
   "source": [
    "$\n",
    "\\color{DarkGreen}{Noting\\;D\\,=\\, \\sqrt{3}\\sin\\alpha-\\cos\\alpha, \\;we\\,find:}\n",
    "$"
   ]
  },
  {
   "cell_type": "markdown",
   "metadata": {},
   "source": [
    "$\n",
    "\\quad\\color{red}{ (9\\varphi^3+\\varphi+6\\eta-3\\varphi^3\\eta^2)^2}\n",
    "\\color{blue}{ -(\\varphi+3\\eta)^2 \\left(1-3\\varphi^4(3\\sqrt{5}-2\\varphi^3\\eta + \\varphi^2\\eta^2)\\right)} \\;=\\;0\n",
    "\\quad\\color{DarkGreen}{(expand\\,and\\,substitute\\,\\eta^3\\,with\\,Eq.7)}\n",
    "$"
   ]
  },
  {
   "cell_type": "markdown",
   "metadata": {},
   "source": [
    "$\n",
    "\\color{DarkGreen}{=\\;}\n",
    "\\color{red}{(9\\varphi^3+\\varphi)^2 + 36\\eta^2 +9\\varphi^6\\eta\\color{DarkGreen}{(2\\eta+\\varphi)}+2(9\\varphi^3+\\varphi)(6\\eta-3\\varphi^3\\eta^2)}\n",
    "\\color{red}{-36\\varphi^3} \\color{DarkGreen}{(2\\eta+\\varphi)}\n",
    "\\color{blue}{ -\\varphi^2 \\left(1-3\\varphi^4(3\\sqrt{5} - 2\\varphi^3\\eta + \\varphi^2\\eta^2) \\right)}\n",
    "$"
   ]
  },
  {
   "cell_type": "markdown",
   "metadata": {},
   "source": [
    "$\n",
    "\\quad\\color{blue}{-6\\varphi \\left( \\eta-3\\varphi^4 \\left( 3\\sqrt{5}\\eta - 2\\varphi^3\\eta^2 + \n",
    "\\varphi^2\\color{DarkGreen}{(2\\eta+\\varphi)} \\right)\\right)}\n",
    "\\color{blue}{-9 \\left( \\eta^2-3\\varphi^4 \\left( 3\\sqrt{5}\\eta^2 - 2\\varphi^3\\color{DarkGreen}{(2\\eta+\\varphi) +}\n",
    "\\varphi^2\\eta\\color{DarkGreen}{(2\\eta+\\varphi)} \\right)\\right)}\\;=\\;0\n",
    "$"
   ]
  },
  {
   "cell_type": "markdown",
   "metadata": {},
   "source": [
    "$\n",
    "\\color{DarkGreen}{=\\;(}\n",
    "\\color{red}{81\\varphi^6+18\\varphi^4+\\varphi^2-36\\varphi^4} \\color{blue}{-\\varphi^2+9\\varphi^6\\sqrt{5}+18\\varphi^8-54\\varphi^8}\n",
    "\\color{DarkGreen}{)\\quad\\quad\\text{(all 3 orders of}\\;\\eta\\;\\text{sum to zero)}}\n",
    "$"
   ]
  },
  {
   "cell_type": "markdown",
   "metadata": {},
   "source": [
    "$\n",
    "\\quad\\color{DarkGreen}{+\\;(}\n",
    "\\color{red}{9\\varphi^7+12(9\\varphi^3+\\varphi)-72\\varphi^3}\n",
    "\\color{blue}{+6\\varphi^9-6\\varphi +54\\varphi^5\\sqrt{5}+36\\varphi^7-108\\varphi^8+27\\varphi^7}\n",
    "\\color{DarkGreen}{)\\eta}\n",
    "$"
   ]
  },
  {
   "cell_type": "markdown",
   "metadata": {},
   "source": [
    "$\n",
    "\\quad\\quad\\color{DarkGreen}{+\\;(}\n",
    "\\color{red}{36+ 18\\varphi^6-6\\varphi^3(9\\varphi^3+\\varphi)}\n",
    "\\color{blue}{+3\\varphi^8-36\\varphi^8-9 + 81\\varphi^4 \\sqrt{5}+54\\varphi^6}\n",
    "\\color{DarkGreen}{)\\eta^2}\\;=\\;0\n",
    "$"
   ]
  },
  {
   "cell_type": "markdown",
   "metadata": {},
   "source": [
    "$\n",
    "\\color{blue}{\\sqrt{1-3\\varphi^4(3\\sqrt{5}-2\\varphi^3\\eta+  \\varphi^2\\eta^2)}}\n",
    "\\color{red}{\\;=\\;\\frac{9\\varphi^3+\\varphi+6\\eta-3\\varphi^3\\eta^2}{\\color{blue}{\\varphi +3\\eta}}}\n",
    "\\quad\\color{blue}{(Eq.8)}\n",
    "$"
   ]
  },
  {
   "cell_type": "markdown",
   "metadata": {},
   "source": [
    "$\n",
    "\\color{DarkGreen}{Substitute\\color{blue}{Eq.6}\\,and\\,\\color{blue}{Eq.8}\\,into\\,\\color{red}{Eq.3}}\n",
    "$"
   ]
  },
  {
   "cell_type": "markdown",
   "metadata": {},
   "source": [
    "$\n",
    "\\color{red}{\\gamma\\;=\\; \\frac{ -3 + \\sqrt{ 9-12\\,\\Gamma\\cos\\alpha(\\Gamma\\cos\\alpha -3)}}{2\\Gamma\\,\\cos\\alpha}}\n",
    "\\color{blue}{ \\;=\\;\\frac{  -1+\\sqrt{  1-3\\varphi^4(3\\sqrt{5}-2\\varphi^3\\eta+\\varphi^2\\eta^2)}}{3\\varphi^2-\\varphi^3\\eta} }\n",
    "\\color{blue}{ \\;=\\;\\frac{  -1+\n",
    "\\color{red}{\\frac{9\\varphi^3+\\varphi+6\\eta-3\\varphi^3\\eta^2}{\\color{blue}{\\varphi +3\\eta}}}}{ 3\\varphi^2-\\varphi^3\\eta}}\n",
    "$"
   ]
  },
  {
   "cell_type": "markdown",
   "metadata": {},
   "source": [
    "$\n",
    "\\color{red}{\\gamma\\;=\\; \\frac{ \\color{blue}{-\\varphi -3\\eta} +9\\varphi^3 +\\varphi +3\\eta +3(3\\varphi^2 - \\varphi^4)\\eta -3\\varphi^3\\eta^2}\n",
    "{\\color{blue}{(\\varphi +3\\eta)(3\\varphi^2 -\\varphi^3\\eta)  }}}\n",
    "\\color{red}{\\;=\\;\\frac{3\\varphi+3\\eta}{\\varphi+3\\eta}}\n",
    "$"
   ]
  },
  {
   "cell_type": "markdown",
   "metadata": {},
   "source": [
    "$\n",
    "\\color{blue}{  \\cos\\alpha \\;=\\; \\frac{1}{  \\sqrt{  1\\color{red}{+\\tan^2\\alpha}}}} \\;=\\;\n",
    "\\color{blue}{ \\frac{1}{ \\sqrt{  1\\color{red}{ +\\frac{\\gamma^2}{3} }}}} \\;=\\;\n",
    "\\color{blue}{ \\frac{1}{ \\sqrt{  1\\color{red}{ +\\frac{1}{3}\\left( \\frac{3\\varphi+3\\eta}{\\varphi+3\\eta} \\right)^2}}}} \\;=\\;\n",
    "\\color{blue}{ \\frac{\\varphi+3\\eta}{2\\sqrt{ \\varphi^2+3\\eta(\\varphi+\\eta)}}}\n",
    "$"
   ]
  },
  {
   "cell_type": "markdown",
   "metadata": {},
   "source": [
    "$\n",
    "\\color{blue}{ \\Gamma\\;=\\;\\cos\\alpha[3\\color{red}{-\\gamma}]}\n",
    "\\color{blue}{ \\;=\\; \\left(  \\frac{\\varphi+3\\eta}{2\\sqrt{ \\varphi^2+3\\eta(\\varphi+\\eta)}} \\right) }\n",
    "\\color{blue}{  \\left[ 3\\color{red}{-\\frac{3\\varphi+3\\eta}{\\varphi+3\\eta}} \\right] }\n",
    "\\color{blue}{ \\;=\\; \\frac{3\\eta}{\\sqrt{ \\varphi^2+3\\eta(\\varphi+\\eta)}} \\quad(Eq.9)}\n",
    "$"
   ]
  },
  {
   "cell_type": "markdown",
   "metadata": {},
   "source": [
    "$\n",
    "\\color{DarkGreen}{Substitute\\;\\color{blue}{Eq.6}\\;and\\;\\color{blue}{Eq.9}\\;into\\,Eq.5}\n",
    "$"
   ]
  },
  {
   "cell_type": "markdown",
   "metadata": {},
   "source": [
    "$\n",
    "\\color{blue}{D\\;=\\;\\frac{ \\varphi^4\\Gamma}{9\\varphi^2 - 2\\Gamma\\cos\\alpha}}\n",
    "\\color{blue}{\\;=\\;\\frac{\\Gamma\\color{DarkGoldenrod}{\\varphi}}{3\\color{Fuchsia}{\\eta}}}\n",
    "\\color{blue}{\\;=\\;\\frac{\\Gamma\\color{Teal}{\\xi}}{3}}\n",
    "\\color{blue}{ \\;=\\; \\frac{\\varphi}{\\sqrt{ \\varphi^2+3\\eta(\\varphi+\\eta)}}}\n",
    "$"
   ]
  },
  {
   "cell_type": "markdown",
   "metadata": {},
   "source": [
    "$\n",
    "\\color{red}{Icosa\\,symmetry:}\\;\n",
    "\\color{blue}{\\cos\\beta=\\frac{\\varphi}{\\sqrt{3}}} \\quad\n",
    "\\color{red}{ \\sin\\beta=\\frac{1}{\\varphi\\sqrt{3}}} \\quad\n",
    "\\color{blue}{\\overline{a\\color{DarkGreen}{b}}=\\frac{1}{2\\sqrt{3}}} \\quad\n",
    "\\color{blue}{\\overline{ac}=\\frac{\\overline{a\\color{DarkGreen}{b}}}{\\tan\\beta}=  \\frac{\\varphi^2}{2\\sqrt{3}}}\n",
    "$"
   ]
  },
  {
   "cell_type": "markdown",
   "metadata": {},
   "source": [
    "$\n",
    "\\color{DarkGreen}{ \\text{Radius to triangle face:}\\;r_{triangle}\\;=\\; \\frac{\\color{blue}{\\overline{ac}}}{\\color{DarkGreen}{D}}}\n",
    "\\color{DarkGreen}{ \\;=\\; \\frac{\\varphi}{2\\sqrt{3}}\\sqrt{ \\varphi^2+3\\eta(\\varphi+\\eta)}}\n",
    "$"
   ]
  },
  {
   "cell_type": "markdown",
   "metadata": {},
   "source": [
    "$\n",
    "\\color{DarkGreen}{ \\text{Circumradius (radius to vertex):}}\n",
    "$"
   ]
  },
  {
   "cell_type": "markdown",
   "metadata": {},
   "source": [
    "$\n",
    "\\color{DarkGreen}{r_{circumradius}\\;=\\; \\sqrt{ \\color{blue}{r^2_{triangle}}  \\color{red}{+(2\\sin\\frac{\\pi}{3})^{-2}}    }}\n",
    "\\color{DarkGreen}{ \\;=\\; \\sqrt{ \\frac{ \\color{blue}{\\varphi^2\\left(\\varphi^2 + 3\\eta(\\varphi+\\eta)\\right)} \\color{red}{+ 4}}{12} }}\n",
    "\\color{DarkGreen}{ \\;=\\; \\frac{1}{2}\\sqrt{  \\frac{ \\varphi^4 + 4  +3\\varphi^2\\eta(\\varphi+\\eta) }{3}}}\n",
    "$"
   ]
  },
  {
   "cell_type": "markdown",
   "metadata": {},
   "source": [
    "$\n",
    "\\color{DarkGreen}{ \\text{Inradius (radius to pentagon face):}}\n",
    "$"
   ]
  },
  {
   "cell_type": "markdown",
   "metadata": {},
   "source": [
    "$\n",
    "\\color{DarkGreen}{r_{pentagon}\\;=\\; \\sqrt{ \\color{blue}{r^2_{circumradius}} \\color{red}{-(2\\sin\\frac{\\pi}{5})^{-2}}    }}\n",
    "\\color{DarkGreen}{ \\;=\\; \\sqrt{ \\frac{ \\color{blue}{ \\varphi^4 + 4  +3\\varphi^2\\eta(\\varphi+\\eta) } }{12} \\color{red}{-\\frac{\\varphi}{\\sqrt{5}}} }}\n",
    "\\color{DarkGreen}{ \\;=\\; \\frac{\\varphi}{2}\\sqrt{  \\frac{1}{\\varphi\\sqrt{5}}+\\eta(\\varphi+\\eta)}}\n",
    "$"
   ]
  },
  {
   "cell_type": "markdown",
   "metadata": {},
   "source": [
    "$\n",
    "\\color{DarkGreen}{ \\text{Midradius (radius to edge bisector):}}\n",
    "$"
   ]
  },
  {
   "cell_type": "markdown",
   "metadata": {},
   "source": [
    "$\n",
    "\\color{DarkGreen}{r_{midradius}\\;=\\; \\sqrt{ \\color{blue}{r^2_{triangle}} \\color{red}{+ (2\\tan\\frac{\\pi}{3})^{-2}}  }}\n",
    "\\color{DarkGreen}{ \\;=\\; \\sqrt{ \\frac{ \\color{blue}{\\varphi^2\\left(\\varphi^2 + 3\\eta(\\varphi+\\eta)\\right)} \\color{red}{+1} }{12} }}\n",
    "\\color{DarkGreen}{ \\;=\\; \\frac{1}{2}\\sqrt{  \\frac{ \\varphi^4 + 1  +3\\varphi^2\\eta(\\varphi+\\eta) }{3}}}\n",
    "$"
   ]
  },
  {
   "cell_type": "markdown",
   "metadata": {},
   "source": [
    "$\n",
    "\\color{red}{Volume_{Snub Dodecahedron}\\;=\\;}\n",
    "\\color{blue}{N_{triangle}\\times Area_{triangle}\\times\\frac{1}{3} \\times r_{triangle} }\n",
    "\\color{DarkGreen}{+N_{pentagon}\\times Area_{pentagon}\\times\\frac{1}{3} \\times r_{pentagon} }\n",
    "$"
   ]
  },
  {
   "cell_type": "markdown",
   "metadata": {},
   "source": [
    "$\n",
    "\\quad\\color{red}{=\\;}\n",
    "\\color{blue}{ 80\\frac{\\sqrt{3}}{4}\\frac{1}{3}\\frac{\\varphi}{2\\sqrt{3}}\\sqrt{ \\varphi^2+3\\eta(\\varphi+\\eta)}}\n",
    "\\color{DarkGreen}{\\,+\\,12\\frac{5}{4}\\sqrt{\\frac{\\varphi^3}{\\sqrt{5}}}\\frac{1}{3} \\frac{\\varphi}{2}\\sqrt{  \\frac{1}{\\varphi\\sqrt{5}}+\\eta(\\varphi+\\eta)}     }\n",
    "$"
   ]
  },
  {
   "cell_type": "markdown",
   "metadata": {},
   "source": [
    "$$\n",
    "\\color{red}{Volume_{Snub Dodecahedron}\\;=\\;}\n",
    "\\color{red}{\\frac{10\\varphi}{3}\\sqrt{ \\varphi^2+3\\eta(\\varphi+\\eta)}}\n",
    "\\color{red}{\\,+\\,\\frac{\\varphi^2}{2}\\sqrt{ 5 + 5\\sqrt{5}\\varphi\\eta(\\varphi+\\eta)}     }\n",
    "$$"
   ]
  },
  {
   "cell_type": "markdown",
   "metadata": {},
   "source": [
    "### <span style=\"color:DarkGoldenrod\">Origin to one third powers of the golden ratio</span>\n",
    "<span style=\"color:DarkGreen\">Spinnability of the </span>\n",
    "<span style=\"color:DarkGoldenrod\">first golden circle</span>\n",
    "<span style=\"color:DarkGreen\"> leads to a new second root, if\n",
    "<span style=\"color:blue\"><font size=\"3\"> a </font></span>\n",
    "<span style=\"color:DarkGreen\">is taken as $\\color{blue}{\\frac{2}{3}}$</span>\n",
    "<span style=\"color:DarkGreen\">, the alternate root:</span>\n",
    "$\n",
    "\\color{DarkGreen}{y\\;=\\;\\frac{-p}{3}\n",
    "-\\sqrt[3]{ \\frac{b}{2}+\\sqrt{ \\frac{b^2}{4}+\\frac{a^3}{27}}}\n",
    "-\\sqrt[3]{ \\frac{b}{2}-\\sqrt{ \\frac{b^2}{4}+\\frac{a^3}{27}}}  \\;=\\;}\n",
    "\\color{DarkGreen}{\\frac{1}{3}}\n",
    "\\color{DarkGreen}{+\\frac{2}{3}}\\color{DarkGoldenrod}{\\varphi^{\\frac{4}{3}}}\n",
    "\\color{DarkGreen}{-\\frac{1}{3}}\\color{DarkGoldenrod}{\\varphi^{\\frac{-4}{3}}}\n",
    "$"
   ]
  },
  {
   "cell_type": "markdown",
   "metadata": {},
   "source": [
    "<span style=\"color:DarkGoldenrod\">Golden ratio powers</span> may be expressed as the sum of two Fibonacci Sequences (r,s):  $\\color{DarkGoldenrod}{\\varphi^n} = \\frac{r+s\\sqrt{5}}{2}$"
   ]
  },
  {
   "cell_type": "markdown",
   "metadata": {},
   "source": [
    "$\n",
    "\\begin{array}{rrrr}\n",
    "\\color{DarkGoldenrod}{\\varphi^{ n}} & r  & s  & r^2-5s^2\\\\\n",
    "\\hline\n",
    "\\color{DarkGoldenrod}{\\varphi^{ -7}} &  -29 &   13 &  -4\\\\\n",
    "\\color{DarkGoldenrod}{\\varphi^{ -6}} &   18 &   -8 &   4\\\\\n",
    "\\color{DarkGoldenrod}{\\varphi^{ -5}} &  -11 &    5 &  -4\\\\\n",
    "\\color{DarkGoldenrod}{\\varphi^{ -4}} &    7 &   -3 &   4\\\\\n",
    "\\color{DarkGoldenrod}{\\varphi^{ -3}} &   -4 &    2 &  -4\\\\\n",
    "\\color{DarkGoldenrod}{\\varphi^{ -2}} &    3 &   -1 &   4\\\\\n",
    "\\color{DarkGoldenrod}{\\varphi^{ -1}} &   -1 &    1 &  -4\\\\\n",
    "\\color{DarkGoldenrod}{\\varphi^{  0}} &    2 &    0 &   4\\\\\n",
    "\\color{DarkGoldenrod}{\\varphi^{  1}} &    1 &    1 &  -4\\\\\n",
    "\\color{DarkGoldenrod}{\\varphi^{  2}} &    3 &    1 &   4\\\\\n",
    "\\color{DarkGoldenrod}{\\varphi^{  3}} &    4 &    2 &  -4\\\\\n",
    "\\color{DarkGoldenrod}{\\varphi^{  4}} &    7 &    3 &   4\\\\\n",
    "\\color{DarkGoldenrod}{\\varphi^{  5}} &   11 &    5 &  -4\\\\\n",
    "\\color{DarkGoldenrod}{\\varphi^{  6}} &   18 &    8 &   4\\\\\n",
    "\\color{DarkGoldenrod}{\\varphi^{  7}} &   29 &   13 &  -4\\\\\n",
    "\\end{array}\n",
    "$"
   ]
  },
  {
   "cell_type": "markdown",
   "metadata": {},
   "source": [
    "The oscillation of $r^2-5s^2$ may be extended to <span style=\"color:DarkGoldenrod\">one third powers of the golden ratio</span>"
   ]
  },
  {
   "cell_type": "markdown",
   "metadata": {},
   "source": [
    "$\n",
    "\\begin{array}{rrrr}\n",
    "\\color{DarkGoldenrod}{\\varphi^{ \\frac{n}{3}}} & r  & s  & r^2-5s^2\\\\\n",
    "\\hline\n",
    "\\color{DarkGoldenrod}{\\varphi^{ -2}} &    3 &   -1 &   4\\\\\n",
    "\\color{DarkGoldenrod}{\\varphi^{ \\frac{-5}{3}}}   &\n",
    "\\color{DarkGoldenrod}{\\varphi^{ \\frac{-5}{3}} - \\varphi^{ \\frac{5}{3}}} &\n",
    "\\color{DarkGoldenrod}{(\\varphi^{ \\frac{-5}{3}} + \\varphi^{ \\frac{5}{3}})\\frac{1}{\\sqrt{5}}} &\n",
    "-4\\\\\n",
    "\\color{DarkGoldenrod}{\\varphi^{ \\frac{-4}{3}}}   &\n",
    "\\color{DarkGoldenrod}{\\varphi^{ \\frac{-4}{3}} + \\varphi^{ \\frac{4}{3}}} &\n",
    "\\color{DarkGoldenrod}{(\\varphi^{ \\frac{-4}{3}} - \\varphi^{ \\frac{4}{3}})\\frac{1}{\\sqrt{5}}} &\n",
    "4\\\\\n",
    "\\color{DarkGoldenrod}{\\varphi^{ -1}} &   -1 &    1 &  -4\\\\\n",
    "\\color{DarkGoldenrod}{\\varphi^{ \\frac{-2}{3}}}   &\n",
    "\\color{DarkGoldenrod}{\\varphi^{ \\frac{-2}{3}} + \\varphi^{ \\frac{2}{3}}} &\n",
    "\\color{DarkGoldenrod}{(\\varphi^{ \\frac{-2}{3}} - \\varphi^{ \\frac{2}{3}})\\frac{1}{\\sqrt{5}}} &\n",
    "4\\\\\n",
    "\\color{DarkGoldenrod}{\\varphi^{ \\frac{-1}{3}}}   &\n",
    "\\color{DarkGoldenrod}{\\varphi^{ \\frac{-1}{3}} - \\varphi^{ \\frac{1}{3}}} &\n",
    "\\color{DarkGoldenrod}{(\\varphi^{ \\frac{-1}{3}} + \\varphi^{ \\frac{1}{3}})\\frac{1}{\\sqrt{5}}} &\n",
    "-4\\\\\n",
    "\\color{DarkGoldenrod}{\\varphi^{  0}} &    2 &    0 &   4\\\\\n",
    "\\color{DarkGoldenrod}{\\varphi^{ \\frac{1}{3}}}   &\n",
    "\\color{DarkGoldenrod}{\\varphi^{ \\frac{1}{3}} - \\varphi^{ \\frac{-1}{3}}} &\n",
    "\\color{DarkGoldenrod}{(\\varphi^{ \\frac{1}{3}} + \\varphi^{ \\frac{-1}{3}})\\frac{1}{\\sqrt{5}}} &\n",
    "-4\\\\\n",
    "\\color{DarkGoldenrod}{\\varphi^{ \\frac{2}{3}}}   &\n",
    "\\color{DarkGoldenrod}{\\varphi^{ \\frac{2}{3}} + \\varphi^{ \\frac{-2}{3}}} &\n",
    "\\color{DarkGoldenrod}{(\\varphi^{ \\frac{2}{3}} - \\varphi^{ \\frac{-2}{3}})\\frac{1}{\\sqrt{5}}} &\n",
    "4\\\\\n",
    "\\color{DarkGoldenrod}{\\varphi^{  1}} &    1 &    1 &  -4\\\\\n",
    "\\color{DarkGoldenrod}{\\varphi^{ \\frac{4}{3}}}   &\n",
    "\\color{DarkGoldenrod}{\\varphi^{ \\frac{4}{3}} + \\varphi^{ \\frac{-4}{3}}} &\n",
    "\\color{DarkGoldenrod}{(\\varphi^{ \\frac{4}{3}} - \\varphi^{ \\frac{-4}{3}})\\frac{1}{\\sqrt{5}}} &\n",
    "4\\\\\n",
    "\\color{DarkGoldenrod}{\\varphi^{ \\frac{5}{3}}}   &\n",
    "\\color{DarkGoldenrod}{\\varphi^{ \\frac{5}{3}} - \\varphi^{ \\frac{-5}{3}}} &\n",
    "\\color{DarkGoldenrod}{(\\varphi^{ \\frac{5}{3}} + \\varphi^{ \\frac{-5}{3}})\\frac{1}{\\sqrt{5}}} &\n",
    "-4\\\\\n",
    "\\color{DarkGoldenrod}{\\varphi^{  2}} &    3 &    1 &   4\\\\\n",
    "\\end{array}\n",
    "$"
   ]
  },
  {
   "cell_type": "markdown",
   "metadata": {},
   "source": [
    "<span style=\"color:DarkGreen\">Vectors</span> are used to plot the alternate root as the <span style=\"color:DarkGoldenrod\">Origin to one third powers of the golden ratio.</span>"
   ]
  },
  {
   "cell_type": "markdown",
   "metadata": {},
   "source": [
    "![One_third_powers_of_the_Golden_Ratio](https://upload.wikimedia.org/wikipedia/commons/2/24/One_third_powers_of_the_Golden_Ratio.png)"
   ]
  },
  {
   "cell_type": "markdown",
   "metadata": {},
   "source": [
    "## References\n",
    "\n",
    "\n",
    "<span id=\"fn1\">[1]</span> Wolfram Cloud MathMusing [\"Volume_of_the_Snub_Dodecahedron\"]( https://www.wolframcloud.com/obj/MathMusing/Published/Volume_of_the_Snub_Dodecahedron.nb), a supplement to this essay.\n",
    "<br>\n",
    "<span id=\"fn2\">[2]</span> [Coxeter, H. S. M.;](https://mathworld.wolfram.com/news/2003-04-02/coxeter/) Longuet-Higgins, M. S.; and Miller, J. C. P. [\"Uniform Polyhedra.\"](https://royalsocietypublishing.org/doi/abs/10.1098/rsta.1954.0003) Phil. Trans. Roy. Soc. London, 1954.\n",
    "<br>\n",
    "<span id=\"fn3\">[3]</span> [Weisstein, Eric W.](https://mathworld.wolfram.com/about/author.html) [\"Snub Dodecahedron.\"](https://mathworld.wolfram.com/SnubDodecahedron.html) From MathWorld--A Wolfram Web Resource.\n",
    "<br>\n",
    "<span id=\"fn4\">[4]</span> Wikipedia [\"Snub Dodecahedron\"](https://en.wikipedia.org/wiki/Snub_dodecahedron#Cartesian_coordinates)\n",
    "<br>\n",
    "<span id=\"fn5\">[5]</span> [Harish Chandra Rajpoot](https://www.researchgate.net/profile/Harish_Chandra_Rajpoot) [“Optimum Solution of Snub Dodecahedron\"](https://www.researchgate.net/publication/335967411_Optimum_Solution_of_Snub_Dodecahedron_an_Archimedean_Solid_by_Using_HCR's_Theory_of_Polygon_Newton-Raphson_Method) 2014\n",
    "<br>\n",
    "<span id=\"fn6\">[6]</span> Jupyter.Org [\"Five volume calculations for Snub Dodecahedron\"](https://nbviewer.jupyter.org/urls/archive.org/download/five-volume-snub/Five_volume_calculations_for_Snub_Dodecahedron.ipynb), a supplement to this essay.\n",
    "<br>\n",
    "<span id=\"fn7\">[7]</span> Mark Shelby Adams [\"Archimedean Platonic Solids\"](https://archive.org/details/archimedeanplatonicsolids/mode/2up) 1985.\n",
    "<br>\n",
    "<br>\n",
    "Mark Adams\n",
    "<br>\n",
    "markadams@gatech.edu\n",
    "<br>\n",
    "[ORCID iD 0000-0003-4469-051X](https://orcid.org/0000-0003-4469-051X)\n",
    "    "
   ]
  }
 ],
 "metadata": {
  "kernelspec": {
   "display_name": "Python 3",
   "language": "python",
   "name": "python3"
  },
  "language_info": {
   "codemirror_mode": {
    "name": "ipython",
    "version": 3
   },
   "file_extension": ".py",
   "mimetype": "text/x-python",
   "name": "python",
   "nbconvert_exporter": "python",
   "pygments_lexer": "ipython3",
   "version": "3.7.3"
  }
 },
 "nbformat": 4,
 "nbformat_minor": 2
}
